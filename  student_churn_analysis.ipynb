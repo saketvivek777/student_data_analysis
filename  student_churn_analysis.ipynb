{
 "cells": [
  {
   "cell_type": "code",
   "execution_count": 1,
   "id": "a2671aeb-1d02-4c18-b9c7-4dcfabb173b3",
   "metadata": {},
   "outputs": [
    {
     "name": "stdout",
     "output_type": "stream",
     "text": [
      "  student_id enrollment_date                   program  age  gender   gpa  \\\n",
      "0      S1000      2021-04-13  B.Eng. Civil Engineering   18  Female  3.47   \n",
      "1      S1001      2022-03-12           B.A. Psychology   18    Male  3.04   \n",
      "2      S1002      2023-05-11           B.A. Psychology   22  Female  3.74   \n",
      "3      S1003      2021-09-28  B.Eng. Civil Engineering   21    Male  2.49   \n",
      "4      S1004      2021-04-17           B.A. Psychology   18    Male  2.31   \n",
      "\n",
      "   attendance_rate extracurricular financial_aid tuition_status  \\\n",
      "0            91.52              No      Full Aid        Partial   \n",
      "1            94.59             Yes      Full Aid        Partial   \n",
      "2            84.34              No        No Aid           Paid   \n",
      "3            80.27              No        No Aid         Unpaid   \n",
      "4            66.37             Yes      Full Aid         Unpaid   \n",
      "\n",
      "   distance_miles support_usage family_background employment_status  \\\n",
      "0               6           Low         First-Gen       Not Working   \n",
      "1              20           Low         First-Gen         Part-time   \n",
      "2              27      Moderate     Non-First-Gen         Full-time   \n",
      "3               9          High         First-Gen         Full-time   \n",
      "4              22      Moderate         First-Gen       Not Working   \n",
      "\n",
      "  living_situation last_login  courses_completed churn  \n",
      "0        On-Campus 2023-02-20                  5   Yes  \n",
      "1      With Family 2023-03-10                  6    No  \n",
      "2       Off-Campus 2023-04-05                  9    No  \n",
      "3       Off-Campus 2023-03-30                  8    No  \n",
      "4        On-Campus 2023-01-31                  8   Yes  \n"
     ]
    }
   ],
   "source": [
    "import pandas as pd\n",
    "import numpy as np\n",
    "from datetime import datetime, timedelta\n",
    "import random\n",
    "\n",
    "np.random.seed(42)\n",
    "num_records = 500\n",
    "\n",
    "# Generate random data for each column\n",
    "data = {\n",
    "    \"student_id\": [f\"S{1000 + i}\" for i in range(num_records)],\n",
    "    \"enrollment_date\": [datetime(2021, 1, 1) + timedelta(days=np.random.randint(0, 1000)) for _ in range(num_records)],\n",
    "    \"program\": np.random.choice(['B.Sc. Biology', 'B.A. Psychology', 'B.Eng. Civil Engineering', 'B.Sc. Computer Science', 'B.A. Sociology'], num_records),\n",
    "    \"age\": np.random.randint(18, 26, num_records),\n",
    "    \"gender\": np.random.choice(['Male', 'Female'], num_records),\n",
    "    \"gpa\": np.round(np.random.uniform(2.0, 4.0, num_records), 2),\n",
    "    \"attendance_rate\": np.round(np.random.uniform(60, 100, num_records), 2),\n",
    "    \"extracurricular\": np.random.choice(['Yes', 'No'], num_records),\n",
    "    \"financial_aid\": np.random.choice(['Full Aid', 'Partial Aid', 'No Aid'], num_records),\n",
    "    \"tuition_status\": np.random.choice(['Paid', 'Partial', 'Unpaid'], num_records),\n",
    "    \"distance_miles\": np.random.randint(1, 31, num_records),\n",
    "    \"support_usage\": np.random.choice(['Low', 'Moderate', 'High'], num_records),\n",
    "    \"family_background\": np.random.choice(['First-Gen', 'Non-First-Gen'], num_records),\n",
    "    \"employment_status\": np.random.choice(['Part-time', 'Full-time', 'Not Working'], num_records),\n",
    "    \"living_situation\": np.random.choice(['On-Campus', 'Off-Campus', 'With Family'], num_records),\n",
    "    \"last_login\": [datetime(2023, 1, 1) + timedelta(days=np.random.randint(0, 100)) for _ in range(num_records)],\n",
    "    \"courses_completed\": np.random.randint(1, 11, num_records),\n",
    "    \"churn\": np.random.choice(['Yes', 'No'], num_records)\n",
    "}\n",
    "\n",
    "# Create DataFrame\n",
    "df = pd.DataFrame(data)\n",
    "\n",
    "# Display first few rows of the generated DataFrame\n",
    "print(df.head())\n",
    "\n",
    "# Optional: Save to CSV\n",
    "df.to_csv(\"student_churn_data.csv\", index=False)\n"
   ]
  },
  {
   "cell_type": "code",
   "execution_count": 3,
   "id": "16f7d811-281f-41ba-ba78-4af5e48615e3",
   "metadata": {},
   "outputs": [
    {
     "data": {
      "text/html": [
       "<div>\n",
       "<style scoped>\n",
       "    .dataframe tbody tr th:only-of-type {\n",
       "        vertical-align: middle;\n",
       "    }\n",
       "\n",
       "    .dataframe tbody tr th {\n",
       "        vertical-align: top;\n",
       "    }\n",
       "\n",
       "    .dataframe thead th {\n",
       "        text-align: right;\n",
       "    }\n",
       "</style>\n",
       "<table border=\"1\" class=\"dataframe\">\n",
       "  <thead>\n",
       "    <tr style=\"text-align: right;\">\n",
       "      <th></th>\n",
       "      <th>student_id</th>\n",
       "      <th>enrollment_date</th>\n",
       "      <th>program</th>\n",
       "      <th>age</th>\n",
       "      <th>gender</th>\n",
       "      <th>gpa</th>\n",
       "      <th>attendance_rate</th>\n",
       "      <th>extracurricular</th>\n",
       "      <th>financial_aid</th>\n",
       "      <th>tuition_status</th>\n",
       "      <th>distance_miles</th>\n",
       "      <th>support_usage</th>\n",
       "      <th>family_background</th>\n",
       "      <th>employment_status</th>\n",
       "      <th>living_situation</th>\n",
       "      <th>last_login</th>\n",
       "      <th>courses_completed</th>\n",
       "      <th>churn</th>\n",
       "    </tr>\n",
       "  </thead>\n",
       "  <tbody>\n",
       "    <tr>\n",
       "      <th>0</th>\n",
       "      <td>S1000</td>\n",
       "      <td>2021-04-13</td>\n",
       "      <td>B.Eng. Civil Engineering</td>\n",
       "      <td>18</td>\n",
       "      <td>Female</td>\n",
       "      <td>3.47</td>\n",
       "      <td>91.52</td>\n",
       "      <td>No</td>\n",
       "      <td>Full Aid</td>\n",
       "      <td>Partial</td>\n",
       "      <td>6</td>\n",
       "      <td>Low</td>\n",
       "      <td>First-Gen</td>\n",
       "      <td>Not Working</td>\n",
       "      <td>On-Campus</td>\n",
       "      <td>2023-02-20</td>\n",
       "      <td>5</td>\n",
       "      <td>Yes</td>\n",
       "    </tr>\n",
       "    <tr>\n",
       "      <th>1</th>\n",
       "      <td>S1001</td>\n",
       "      <td>2022-03-12</td>\n",
       "      <td>B.A. Psychology</td>\n",
       "      <td>18</td>\n",
       "      <td>Male</td>\n",
       "      <td>3.04</td>\n",
       "      <td>94.59</td>\n",
       "      <td>Yes</td>\n",
       "      <td>Full Aid</td>\n",
       "      <td>Partial</td>\n",
       "      <td>20</td>\n",
       "      <td>Low</td>\n",
       "      <td>First-Gen</td>\n",
       "      <td>Part-time</td>\n",
       "      <td>With Family</td>\n",
       "      <td>2023-03-10</td>\n",
       "      <td>6</td>\n",
       "      <td>No</td>\n",
       "    </tr>\n",
       "    <tr>\n",
       "      <th>2</th>\n",
       "      <td>S1002</td>\n",
       "      <td>2023-05-11</td>\n",
       "      <td>B.A. Psychology</td>\n",
       "      <td>22</td>\n",
       "      <td>Female</td>\n",
       "      <td>3.74</td>\n",
       "      <td>84.34</td>\n",
       "      <td>No</td>\n",
       "      <td>No Aid</td>\n",
       "      <td>Paid</td>\n",
       "      <td>27</td>\n",
       "      <td>Moderate</td>\n",
       "      <td>Non-First-Gen</td>\n",
       "      <td>Full-time</td>\n",
       "      <td>Off-Campus</td>\n",
       "      <td>2023-04-05</td>\n",
       "      <td>9</td>\n",
       "      <td>No</td>\n",
       "    </tr>\n",
       "    <tr>\n",
       "      <th>3</th>\n",
       "      <td>S1003</td>\n",
       "      <td>2021-09-28</td>\n",
       "      <td>B.Eng. Civil Engineering</td>\n",
       "      <td>21</td>\n",
       "      <td>Male</td>\n",
       "      <td>2.49</td>\n",
       "      <td>80.27</td>\n",
       "      <td>No</td>\n",
       "      <td>No Aid</td>\n",
       "      <td>Unpaid</td>\n",
       "      <td>9</td>\n",
       "      <td>High</td>\n",
       "      <td>First-Gen</td>\n",
       "      <td>Full-time</td>\n",
       "      <td>Off-Campus</td>\n",
       "      <td>2023-03-30</td>\n",
       "      <td>8</td>\n",
       "      <td>No</td>\n",
       "    </tr>\n",
       "    <tr>\n",
       "      <th>4</th>\n",
       "      <td>S1004</td>\n",
       "      <td>2021-04-17</td>\n",
       "      <td>B.A. Psychology</td>\n",
       "      <td>18</td>\n",
       "      <td>Male</td>\n",
       "      <td>2.31</td>\n",
       "      <td>66.37</td>\n",
       "      <td>Yes</td>\n",
       "      <td>Full Aid</td>\n",
       "      <td>Unpaid</td>\n",
       "      <td>22</td>\n",
       "      <td>Moderate</td>\n",
       "      <td>First-Gen</td>\n",
       "      <td>Not Working</td>\n",
       "      <td>On-Campus</td>\n",
       "      <td>2023-01-31</td>\n",
       "      <td>8</td>\n",
       "      <td>Yes</td>\n",
       "    </tr>\n",
       "    <tr>\n",
       "      <th>...</th>\n",
       "      <td>...</td>\n",
       "      <td>...</td>\n",
       "      <td>...</td>\n",
       "      <td>...</td>\n",
       "      <td>...</td>\n",
       "      <td>...</td>\n",
       "      <td>...</td>\n",
       "      <td>...</td>\n",
       "      <td>...</td>\n",
       "      <td>...</td>\n",
       "      <td>...</td>\n",
       "      <td>...</td>\n",
       "      <td>...</td>\n",
       "      <td>...</td>\n",
       "      <td>...</td>\n",
       "      <td>...</td>\n",
       "      <td>...</td>\n",
       "      <td>...</td>\n",
       "    </tr>\n",
       "    <tr>\n",
       "      <th>495</th>\n",
       "      <td>S1495</td>\n",
       "      <td>2021-01-18</td>\n",
       "      <td>B.A. Psychology</td>\n",
       "      <td>20</td>\n",
       "      <td>Female</td>\n",
       "      <td>3.54</td>\n",
       "      <td>71.86</td>\n",
       "      <td>Yes</td>\n",
       "      <td>No Aid</td>\n",
       "      <td>Unpaid</td>\n",
       "      <td>4</td>\n",
       "      <td>Moderate</td>\n",
       "      <td>Non-First-Gen</td>\n",
       "      <td>Part-time</td>\n",
       "      <td>On-Campus</td>\n",
       "      <td>2023-04-07</td>\n",
       "      <td>5</td>\n",
       "      <td>Yes</td>\n",
       "    </tr>\n",
       "    <tr>\n",
       "      <th>496</th>\n",
       "      <td>S1496</td>\n",
       "      <td>2023-03-04</td>\n",
       "      <td>B.Sc. Biology</td>\n",
       "      <td>25</td>\n",
       "      <td>Female</td>\n",
       "      <td>2.49</td>\n",
       "      <td>96.73</td>\n",
       "      <td>Yes</td>\n",
       "      <td>No Aid</td>\n",
       "      <td>Unpaid</td>\n",
       "      <td>8</td>\n",
       "      <td>Low</td>\n",
       "      <td>First-Gen</td>\n",
       "      <td>Full-time</td>\n",
       "      <td>With Family</td>\n",
       "      <td>2023-03-16</td>\n",
       "      <td>4</td>\n",
       "      <td>Yes</td>\n",
       "    </tr>\n",
       "    <tr>\n",
       "      <th>497</th>\n",
       "      <td>S1497</td>\n",
       "      <td>2023-01-05</td>\n",
       "      <td>B.Sc. Biology</td>\n",
       "      <td>21</td>\n",
       "      <td>Male</td>\n",
       "      <td>3.34</td>\n",
       "      <td>64.43</td>\n",
       "      <td>No</td>\n",
       "      <td>Full Aid</td>\n",
       "      <td>Unpaid</td>\n",
       "      <td>9</td>\n",
       "      <td>Low</td>\n",
       "      <td>Non-First-Gen</td>\n",
       "      <td>Full-time</td>\n",
       "      <td>On-Campus</td>\n",
       "      <td>2023-03-15</td>\n",
       "      <td>2</td>\n",
       "      <td>No</td>\n",
       "    </tr>\n",
       "    <tr>\n",
       "      <th>498</th>\n",
       "      <td>S1498</td>\n",
       "      <td>2022-07-20</td>\n",
       "      <td>B.A. Psychology</td>\n",
       "      <td>21</td>\n",
       "      <td>Male</td>\n",
       "      <td>2.19</td>\n",
       "      <td>90.38</td>\n",
       "      <td>Yes</td>\n",
       "      <td>Full Aid</td>\n",
       "      <td>Paid</td>\n",
       "      <td>26</td>\n",
       "      <td>Low</td>\n",
       "      <td>First-Gen</td>\n",
       "      <td>Not Working</td>\n",
       "      <td>Off-Campus</td>\n",
       "      <td>2023-01-25</td>\n",
       "      <td>2</td>\n",
       "      <td>Yes</td>\n",
       "    </tr>\n",
       "    <tr>\n",
       "      <th>499</th>\n",
       "      <td>S1499</td>\n",
       "      <td>2022-07-24</td>\n",
       "      <td>B.Sc. Computer Science</td>\n",
       "      <td>22</td>\n",
       "      <td>Male</td>\n",
       "      <td>2.51</td>\n",
       "      <td>99.52</td>\n",
       "      <td>No</td>\n",
       "      <td>Full Aid</td>\n",
       "      <td>Unpaid</td>\n",
       "      <td>26</td>\n",
       "      <td>Moderate</td>\n",
       "      <td>First-Gen</td>\n",
       "      <td>Full-time</td>\n",
       "      <td>Off-Campus</td>\n",
       "      <td>2023-02-17</td>\n",
       "      <td>5</td>\n",
       "      <td>Yes</td>\n",
       "    </tr>\n",
       "  </tbody>\n",
       "</table>\n",
       "<p>500 rows × 18 columns</p>\n",
       "</div>"
      ],
      "text/plain": [
       "    student_id enrollment_date                   program  age  gender   gpa  \\\n",
       "0        S1000      2021-04-13  B.Eng. Civil Engineering   18  Female  3.47   \n",
       "1        S1001      2022-03-12           B.A. Psychology   18    Male  3.04   \n",
       "2        S1002      2023-05-11           B.A. Psychology   22  Female  3.74   \n",
       "3        S1003      2021-09-28  B.Eng. Civil Engineering   21    Male  2.49   \n",
       "4        S1004      2021-04-17           B.A. Psychology   18    Male  2.31   \n",
       "..         ...             ...                       ...  ...     ...   ...   \n",
       "495      S1495      2021-01-18           B.A. Psychology   20  Female  3.54   \n",
       "496      S1496      2023-03-04             B.Sc. Biology   25  Female  2.49   \n",
       "497      S1497      2023-01-05             B.Sc. Biology   21    Male  3.34   \n",
       "498      S1498      2022-07-20           B.A. Psychology   21    Male  2.19   \n",
       "499      S1499      2022-07-24    B.Sc. Computer Science   22    Male  2.51   \n",
       "\n",
       "     attendance_rate extracurricular financial_aid tuition_status  \\\n",
       "0              91.52              No      Full Aid        Partial   \n",
       "1              94.59             Yes      Full Aid        Partial   \n",
       "2              84.34              No        No Aid           Paid   \n",
       "3              80.27              No        No Aid         Unpaid   \n",
       "4              66.37             Yes      Full Aid         Unpaid   \n",
       "..               ...             ...           ...            ...   \n",
       "495            71.86             Yes        No Aid         Unpaid   \n",
       "496            96.73             Yes        No Aid         Unpaid   \n",
       "497            64.43              No      Full Aid         Unpaid   \n",
       "498            90.38             Yes      Full Aid           Paid   \n",
       "499            99.52              No      Full Aid         Unpaid   \n",
       "\n",
       "     distance_miles support_usage family_background employment_status  \\\n",
       "0                 6           Low         First-Gen       Not Working   \n",
       "1                20           Low         First-Gen         Part-time   \n",
       "2                27      Moderate     Non-First-Gen         Full-time   \n",
       "3                 9          High         First-Gen         Full-time   \n",
       "4                22      Moderate         First-Gen       Not Working   \n",
       "..              ...           ...               ...               ...   \n",
       "495               4      Moderate     Non-First-Gen         Part-time   \n",
       "496               8           Low         First-Gen         Full-time   \n",
       "497               9           Low     Non-First-Gen         Full-time   \n",
       "498              26           Low         First-Gen       Not Working   \n",
       "499              26      Moderate         First-Gen         Full-time   \n",
       "\n",
       "    living_situation last_login  courses_completed churn  \n",
       "0          On-Campus 2023-02-20                  5   Yes  \n",
       "1        With Family 2023-03-10                  6    No  \n",
       "2         Off-Campus 2023-04-05                  9    No  \n",
       "3         Off-Campus 2023-03-30                  8    No  \n",
       "4          On-Campus 2023-01-31                  8   Yes  \n",
       "..               ...        ...                ...   ...  \n",
       "495        On-Campus 2023-04-07                  5   Yes  \n",
       "496      With Family 2023-03-16                  4   Yes  \n",
       "497        On-Campus 2023-03-15                  2    No  \n",
       "498       Off-Campus 2023-01-25                  2   Yes  \n",
       "499       Off-Campus 2023-02-17                  5   Yes  \n",
       "\n",
       "[500 rows x 18 columns]"
      ]
     },
     "execution_count": 3,
     "metadata": {},
     "output_type": "execute_result"
    }
   ],
   "source": [
    "df\n"
   ]
  },
  {
   "cell_type": "code",
   "execution_count": 7,
   "id": "e0cd7224-b7ed-4730-96f4-7a3c2ad90d84",
   "metadata": {},
   "outputs": [],
   "source": [
    "df.to_csv(\"studentchurn_data.csv\", index=False)"
   ]
  },
  {
   "cell_type": "code",
   "execution_count": 13,
   "id": "c437970e-cab9-4f09-808e-b84a707db81c",
   "metadata": {},
   "outputs": [],
   "source": [
    "data1=pd.read_csv(\"studentchurn_data.csv\")"
   ]
  },
  {
   "cell_type": "code",
   "execution_count": 15,
   "id": "fe4f4cde-7fdc-491a-9ff6-fe6baa5de6c3",
   "metadata": {},
   "outputs": [
    {
     "data": {
      "text/html": [
       "<div>\n",
       "<style scoped>\n",
       "    .dataframe tbody tr th:only-of-type {\n",
       "        vertical-align: middle;\n",
       "    }\n",
       "\n",
       "    .dataframe tbody tr th {\n",
       "        vertical-align: top;\n",
       "    }\n",
       "\n",
       "    .dataframe thead th {\n",
       "        text-align: right;\n",
       "    }\n",
       "</style>\n",
       "<table border=\"1\" class=\"dataframe\">\n",
       "  <thead>\n",
       "    <tr style=\"text-align: right;\">\n",
       "      <th></th>\n",
       "      <th>student_id</th>\n",
       "      <th>enrollment_date</th>\n",
       "      <th>program</th>\n",
       "      <th>age</th>\n",
       "      <th>gender</th>\n",
       "      <th>gpa</th>\n",
       "      <th>attendance_rate</th>\n",
       "      <th>extracurricular</th>\n",
       "      <th>financial_aid</th>\n",
       "      <th>tuition_status</th>\n",
       "      <th>distance_miles</th>\n",
       "      <th>support_usage</th>\n",
       "      <th>family_background</th>\n",
       "      <th>employment_status</th>\n",
       "      <th>living_situation</th>\n",
       "      <th>last_login</th>\n",
       "      <th>courses_completed</th>\n",
       "      <th>churn</th>\n",
       "    </tr>\n",
       "  </thead>\n",
       "  <tbody>\n",
       "    <tr>\n",
       "      <th>0</th>\n",
       "      <td>S1000</td>\n",
       "      <td>2021-04-13</td>\n",
       "      <td>B.Eng. Civil Engineering</td>\n",
       "      <td>18</td>\n",
       "      <td>Female</td>\n",
       "      <td>3.47</td>\n",
       "      <td>91.52</td>\n",
       "      <td>No</td>\n",
       "      <td>Full Aid</td>\n",
       "      <td>Partial</td>\n",
       "      <td>6</td>\n",
       "      <td>Low</td>\n",
       "      <td>First-Gen</td>\n",
       "      <td>Not Working</td>\n",
       "      <td>On-Campus</td>\n",
       "      <td>2023-02-20</td>\n",
       "      <td>5</td>\n",
       "      <td>Yes</td>\n",
       "    </tr>\n",
       "    <tr>\n",
       "      <th>1</th>\n",
       "      <td>S1001</td>\n",
       "      <td>2022-03-12</td>\n",
       "      <td>B.A. Psychology</td>\n",
       "      <td>18</td>\n",
       "      <td>Male</td>\n",
       "      <td>3.04</td>\n",
       "      <td>94.59</td>\n",
       "      <td>Yes</td>\n",
       "      <td>Full Aid</td>\n",
       "      <td>Partial</td>\n",
       "      <td>20</td>\n",
       "      <td>Low</td>\n",
       "      <td>First-Gen</td>\n",
       "      <td>Part-time</td>\n",
       "      <td>With Family</td>\n",
       "      <td>2023-03-10</td>\n",
       "      <td>6</td>\n",
       "      <td>No</td>\n",
       "    </tr>\n",
       "    <tr>\n",
       "      <th>2</th>\n",
       "      <td>S1002</td>\n",
       "      <td>2023-05-11</td>\n",
       "      <td>B.A. Psychology</td>\n",
       "      <td>22</td>\n",
       "      <td>Female</td>\n",
       "      <td>3.74</td>\n",
       "      <td>84.34</td>\n",
       "      <td>No</td>\n",
       "      <td>No Aid</td>\n",
       "      <td>Paid</td>\n",
       "      <td>27</td>\n",
       "      <td>Moderate</td>\n",
       "      <td>Non-First-Gen</td>\n",
       "      <td>Full-time</td>\n",
       "      <td>Off-Campus</td>\n",
       "      <td>2023-04-05</td>\n",
       "      <td>9</td>\n",
       "      <td>No</td>\n",
       "    </tr>\n",
       "    <tr>\n",
       "      <th>3</th>\n",
       "      <td>S1003</td>\n",
       "      <td>2021-09-28</td>\n",
       "      <td>B.Eng. Civil Engineering</td>\n",
       "      <td>21</td>\n",
       "      <td>Male</td>\n",
       "      <td>2.49</td>\n",
       "      <td>80.27</td>\n",
       "      <td>No</td>\n",
       "      <td>No Aid</td>\n",
       "      <td>Unpaid</td>\n",
       "      <td>9</td>\n",
       "      <td>High</td>\n",
       "      <td>First-Gen</td>\n",
       "      <td>Full-time</td>\n",
       "      <td>Off-Campus</td>\n",
       "      <td>2023-03-30</td>\n",
       "      <td>8</td>\n",
       "      <td>No</td>\n",
       "    </tr>\n",
       "    <tr>\n",
       "      <th>4</th>\n",
       "      <td>S1004</td>\n",
       "      <td>2021-04-17</td>\n",
       "      <td>B.A. Psychology</td>\n",
       "      <td>18</td>\n",
       "      <td>Male</td>\n",
       "      <td>2.31</td>\n",
       "      <td>66.37</td>\n",
       "      <td>Yes</td>\n",
       "      <td>Full Aid</td>\n",
       "      <td>Unpaid</td>\n",
       "      <td>22</td>\n",
       "      <td>Moderate</td>\n",
       "      <td>First-Gen</td>\n",
       "      <td>Not Working</td>\n",
       "      <td>On-Campus</td>\n",
       "      <td>2023-01-31</td>\n",
       "      <td>8</td>\n",
       "      <td>Yes</td>\n",
       "    </tr>\n",
       "    <tr>\n",
       "      <th>...</th>\n",
       "      <td>...</td>\n",
       "      <td>...</td>\n",
       "      <td>...</td>\n",
       "      <td>...</td>\n",
       "      <td>...</td>\n",
       "      <td>...</td>\n",
       "      <td>...</td>\n",
       "      <td>...</td>\n",
       "      <td>...</td>\n",
       "      <td>...</td>\n",
       "      <td>...</td>\n",
       "      <td>...</td>\n",
       "      <td>...</td>\n",
       "      <td>...</td>\n",
       "      <td>...</td>\n",
       "      <td>...</td>\n",
       "      <td>...</td>\n",
       "      <td>...</td>\n",
       "    </tr>\n",
       "    <tr>\n",
       "      <th>495</th>\n",
       "      <td>S1495</td>\n",
       "      <td>2021-01-18</td>\n",
       "      <td>B.A. Psychology</td>\n",
       "      <td>20</td>\n",
       "      <td>Female</td>\n",
       "      <td>3.54</td>\n",
       "      <td>71.86</td>\n",
       "      <td>Yes</td>\n",
       "      <td>No Aid</td>\n",
       "      <td>Unpaid</td>\n",
       "      <td>4</td>\n",
       "      <td>Moderate</td>\n",
       "      <td>Non-First-Gen</td>\n",
       "      <td>Part-time</td>\n",
       "      <td>On-Campus</td>\n",
       "      <td>2023-04-07</td>\n",
       "      <td>5</td>\n",
       "      <td>Yes</td>\n",
       "    </tr>\n",
       "    <tr>\n",
       "      <th>496</th>\n",
       "      <td>S1496</td>\n",
       "      <td>2023-03-04</td>\n",
       "      <td>B.Sc. Biology</td>\n",
       "      <td>25</td>\n",
       "      <td>Female</td>\n",
       "      <td>2.49</td>\n",
       "      <td>96.73</td>\n",
       "      <td>Yes</td>\n",
       "      <td>No Aid</td>\n",
       "      <td>Unpaid</td>\n",
       "      <td>8</td>\n",
       "      <td>Low</td>\n",
       "      <td>First-Gen</td>\n",
       "      <td>Full-time</td>\n",
       "      <td>With Family</td>\n",
       "      <td>2023-03-16</td>\n",
       "      <td>4</td>\n",
       "      <td>Yes</td>\n",
       "    </tr>\n",
       "    <tr>\n",
       "      <th>497</th>\n",
       "      <td>S1497</td>\n",
       "      <td>2023-01-05</td>\n",
       "      <td>B.Sc. Biology</td>\n",
       "      <td>21</td>\n",
       "      <td>Male</td>\n",
       "      <td>3.34</td>\n",
       "      <td>64.43</td>\n",
       "      <td>No</td>\n",
       "      <td>Full Aid</td>\n",
       "      <td>Unpaid</td>\n",
       "      <td>9</td>\n",
       "      <td>Low</td>\n",
       "      <td>Non-First-Gen</td>\n",
       "      <td>Full-time</td>\n",
       "      <td>On-Campus</td>\n",
       "      <td>2023-03-15</td>\n",
       "      <td>2</td>\n",
       "      <td>No</td>\n",
       "    </tr>\n",
       "    <tr>\n",
       "      <th>498</th>\n",
       "      <td>S1498</td>\n",
       "      <td>2022-07-20</td>\n",
       "      <td>B.A. Psychology</td>\n",
       "      <td>21</td>\n",
       "      <td>Male</td>\n",
       "      <td>2.19</td>\n",
       "      <td>90.38</td>\n",
       "      <td>Yes</td>\n",
       "      <td>Full Aid</td>\n",
       "      <td>Paid</td>\n",
       "      <td>26</td>\n",
       "      <td>Low</td>\n",
       "      <td>First-Gen</td>\n",
       "      <td>Not Working</td>\n",
       "      <td>Off-Campus</td>\n",
       "      <td>2023-01-25</td>\n",
       "      <td>2</td>\n",
       "      <td>Yes</td>\n",
       "    </tr>\n",
       "    <tr>\n",
       "      <th>499</th>\n",
       "      <td>S1499</td>\n",
       "      <td>2022-07-24</td>\n",
       "      <td>B.Sc. Computer Science</td>\n",
       "      <td>22</td>\n",
       "      <td>Male</td>\n",
       "      <td>2.51</td>\n",
       "      <td>99.52</td>\n",
       "      <td>No</td>\n",
       "      <td>Full Aid</td>\n",
       "      <td>Unpaid</td>\n",
       "      <td>26</td>\n",
       "      <td>Moderate</td>\n",
       "      <td>First-Gen</td>\n",
       "      <td>Full-time</td>\n",
       "      <td>Off-Campus</td>\n",
       "      <td>2023-02-17</td>\n",
       "      <td>5</td>\n",
       "      <td>Yes</td>\n",
       "    </tr>\n",
       "  </tbody>\n",
       "</table>\n",
       "<p>500 rows × 18 columns</p>\n",
       "</div>"
      ],
      "text/plain": [
       "    student_id enrollment_date                   program  age  gender   gpa  \\\n",
       "0        S1000      2021-04-13  B.Eng. Civil Engineering   18  Female  3.47   \n",
       "1        S1001      2022-03-12           B.A. Psychology   18    Male  3.04   \n",
       "2        S1002      2023-05-11           B.A. Psychology   22  Female  3.74   \n",
       "3        S1003      2021-09-28  B.Eng. Civil Engineering   21    Male  2.49   \n",
       "4        S1004      2021-04-17           B.A. Psychology   18    Male  2.31   \n",
       "..         ...             ...                       ...  ...     ...   ...   \n",
       "495      S1495      2021-01-18           B.A. Psychology   20  Female  3.54   \n",
       "496      S1496      2023-03-04             B.Sc. Biology   25  Female  2.49   \n",
       "497      S1497      2023-01-05             B.Sc. Biology   21    Male  3.34   \n",
       "498      S1498      2022-07-20           B.A. Psychology   21    Male  2.19   \n",
       "499      S1499      2022-07-24    B.Sc. Computer Science   22    Male  2.51   \n",
       "\n",
       "     attendance_rate extracurricular financial_aid tuition_status  \\\n",
       "0              91.52              No      Full Aid        Partial   \n",
       "1              94.59             Yes      Full Aid        Partial   \n",
       "2              84.34              No        No Aid           Paid   \n",
       "3              80.27              No        No Aid         Unpaid   \n",
       "4              66.37             Yes      Full Aid         Unpaid   \n",
       "..               ...             ...           ...            ...   \n",
       "495            71.86             Yes        No Aid         Unpaid   \n",
       "496            96.73             Yes        No Aid         Unpaid   \n",
       "497            64.43              No      Full Aid         Unpaid   \n",
       "498            90.38             Yes      Full Aid           Paid   \n",
       "499            99.52              No      Full Aid         Unpaid   \n",
       "\n",
       "     distance_miles support_usage family_background employment_status  \\\n",
       "0                 6           Low         First-Gen       Not Working   \n",
       "1                20           Low         First-Gen         Part-time   \n",
       "2                27      Moderate     Non-First-Gen         Full-time   \n",
       "3                 9          High         First-Gen         Full-time   \n",
       "4                22      Moderate         First-Gen       Not Working   \n",
       "..              ...           ...               ...               ...   \n",
       "495               4      Moderate     Non-First-Gen         Part-time   \n",
       "496               8           Low         First-Gen         Full-time   \n",
       "497               9           Low     Non-First-Gen         Full-time   \n",
       "498              26           Low         First-Gen       Not Working   \n",
       "499              26      Moderate         First-Gen         Full-time   \n",
       "\n",
       "    living_situation  last_login  courses_completed churn  \n",
       "0          On-Campus  2023-02-20                  5   Yes  \n",
       "1        With Family  2023-03-10                  6    No  \n",
       "2         Off-Campus  2023-04-05                  9    No  \n",
       "3         Off-Campus  2023-03-30                  8    No  \n",
       "4          On-Campus  2023-01-31                  8   Yes  \n",
       "..               ...         ...                ...   ...  \n",
       "495        On-Campus  2023-04-07                  5   Yes  \n",
       "496      With Family  2023-03-16                  4   Yes  \n",
       "497        On-Campus  2023-03-15                  2    No  \n",
       "498       Off-Campus  2023-01-25                  2   Yes  \n",
       "499       Off-Campus  2023-02-17                  5   Yes  \n",
       "\n",
       "[500 rows x 18 columns]"
      ]
     },
     "execution_count": 15,
     "metadata": {},
     "output_type": "execute_result"
    }
   ],
   "source": [
    "data1"
   ]
  },
  {
   "cell_type": "code",
   "execution_count": 17,
   "id": "d0628e87-3848-4fcf-8e24-604132431d16",
   "metadata": {},
   "outputs": [
    {
     "name": "stdout",
     "output_type": "stream",
     "text": [
      "Churn Rate by Program:\n",
      " program\n",
      "B.A. Psychology             50.458716\n",
      "B.A. Sociology              51.327434\n",
      "B.Eng. Civil Engineering    54.117647\n",
      "B.Sc. Biology               46.000000\n",
      "B.Sc. Computer Science      56.989247\n",
      "Name: churn, dtype: float64\n"
     ]
    }
   ],
   "source": [
    "churn_by_program = df.groupby('program')['churn'].apply(lambda x: (x == 'Yes').mean() * 100)\n",
    "print(\"Churn Rate by Program:\\n\", churn_by_program)\n"
   ]
  },
  {
   "cell_type": "code",
   "execution_count": 19,
   "id": "16e8d7a7-3593-45fa-9197-0c8e9648ff11",
   "metadata": {},
   "outputs": [
    {
     "name": "stdout",
     "output_type": "stream",
     "text": [
      "Average GPA and Attendance Rate for Churned Students:\n",
      " gpa                 2.970078\n",
      "attendance_rate    79.226434\n",
      "dtype: float64\n"
     ]
    }
   ],
   "source": [
    "avg_gpa_attendance_churned = df[df['churn'] == 'Yes'][['gpa', 'attendance_rate']].mean()\n",
    "print(\"Average GPA and Attendance Rate for Churned Students:\\n\", avg_gpa_attendance_churned)\n"
   ]
  },
  {
   "cell_type": "code",
   "execution_count": 22,
   "id": "9cf2a79c-35c4-4bfc-b04b-0a139c115833",
   "metadata": {},
   "outputs": [
    {
     "name": "stdout",
     "output_type": "stream",
     "text": [
      "Churn Rate by Family Background:\n",
      " family_background\n",
      "First-Gen        47.950820\n",
      "Non-First-Gen    55.078125\n",
      "Name: churn, dtype: float64\n"
     ]
    }
   ],
   "source": [
    "churn_by_family_background = df.groupby('family_background')['churn'].apply(lambda x: (x == 'Yes').mean() * 100)\n",
    "print(\"Churn Rate by Family Background:\\n\", churn_by_family_background)\n"
   ]
  },
  {
   "cell_type": "code",
   "execution_count": 24,
   "id": "fcdd2bd6-3545-4080-afba-f50d982eff06",
   "metadata": {},
   "outputs": [
    {
     "data": {
      "text/html": [
       "<div>\n",
       "<style scoped>\n",
       "    .dataframe tbody tr th:only-of-type {\n",
       "        vertical-align: middle;\n",
       "    }\n",
       "\n",
       "    .dataframe tbody tr th {\n",
       "        vertical-align: top;\n",
       "    }\n",
       "\n",
       "    .dataframe thead th {\n",
       "        text-align: right;\n",
       "    }\n",
       "</style>\n",
       "<table border=\"1\" class=\"dataframe\">\n",
       "  <thead>\n",
       "    <tr style=\"text-align: right;\">\n",
       "      <th></th>\n",
       "      <th>student_id</th>\n",
       "      <th>enrollment_date</th>\n",
       "      <th>program</th>\n",
       "      <th>age</th>\n",
       "      <th>gender</th>\n",
       "      <th>gpa</th>\n",
       "      <th>attendance_rate</th>\n",
       "      <th>extracurricular</th>\n",
       "      <th>financial_aid</th>\n",
       "      <th>tuition_status</th>\n",
       "      <th>distance_miles</th>\n",
       "      <th>support_usage</th>\n",
       "      <th>family_background</th>\n",
       "      <th>employment_status</th>\n",
       "      <th>living_situation</th>\n",
       "      <th>last_login</th>\n",
       "      <th>courses_completed</th>\n",
       "      <th>churn</th>\n",
       "    </tr>\n",
       "  </thead>\n",
       "  <tbody>\n",
       "    <tr>\n",
       "      <th>0</th>\n",
       "      <td>S1000</td>\n",
       "      <td>2021-04-13</td>\n",
       "      <td>B.Eng. Civil Engineering</td>\n",
       "      <td>18</td>\n",
       "      <td>Female</td>\n",
       "      <td>3.47</td>\n",
       "      <td>91.52</td>\n",
       "      <td>No</td>\n",
       "      <td>Full Aid</td>\n",
       "      <td>Partial</td>\n",
       "      <td>6</td>\n",
       "      <td>Low</td>\n",
       "      <td>First-Gen</td>\n",
       "      <td>Not Working</td>\n",
       "      <td>On-Campus</td>\n",
       "      <td>2023-02-20</td>\n",
       "      <td>5</td>\n",
       "      <td>Yes</td>\n",
       "    </tr>\n",
       "    <tr>\n",
       "      <th>1</th>\n",
       "      <td>S1001</td>\n",
       "      <td>2022-03-12</td>\n",
       "      <td>B.A. Psychology</td>\n",
       "      <td>18</td>\n",
       "      <td>Male</td>\n",
       "      <td>3.04</td>\n",
       "      <td>94.59</td>\n",
       "      <td>Yes</td>\n",
       "      <td>Full Aid</td>\n",
       "      <td>Partial</td>\n",
       "      <td>20</td>\n",
       "      <td>Low</td>\n",
       "      <td>First-Gen</td>\n",
       "      <td>Part-time</td>\n",
       "      <td>With Family</td>\n",
       "      <td>2023-03-10</td>\n",
       "      <td>6</td>\n",
       "      <td>No</td>\n",
       "    </tr>\n",
       "    <tr>\n",
       "      <th>2</th>\n",
       "      <td>S1002</td>\n",
       "      <td>2023-05-11</td>\n",
       "      <td>B.A. Psychology</td>\n",
       "      <td>22</td>\n",
       "      <td>Female</td>\n",
       "      <td>3.74</td>\n",
       "      <td>84.34</td>\n",
       "      <td>No</td>\n",
       "      <td>No Aid</td>\n",
       "      <td>Paid</td>\n",
       "      <td>27</td>\n",
       "      <td>Moderate</td>\n",
       "      <td>Non-First-Gen</td>\n",
       "      <td>Full-time</td>\n",
       "      <td>Off-Campus</td>\n",
       "      <td>2023-04-05</td>\n",
       "      <td>9</td>\n",
       "      <td>No</td>\n",
       "    </tr>\n",
       "    <tr>\n",
       "      <th>3</th>\n",
       "      <td>S1003</td>\n",
       "      <td>2021-09-28</td>\n",
       "      <td>B.Eng. Civil Engineering</td>\n",
       "      <td>21</td>\n",
       "      <td>Male</td>\n",
       "      <td>2.49</td>\n",
       "      <td>80.27</td>\n",
       "      <td>No</td>\n",
       "      <td>No Aid</td>\n",
       "      <td>Unpaid</td>\n",
       "      <td>9</td>\n",
       "      <td>High</td>\n",
       "      <td>First-Gen</td>\n",
       "      <td>Full-time</td>\n",
       "      <td>Off-Campus</td>\n",
       "      <td>2023-03-30</td>\n",
       "      <td>8</td>\n",
       "      <td>No</td>\n",
       "    </tr>\n",
       "    <tr>\n",
       "      <th>4</th>\n",
       "      <td>S1004</td>\n",
       "      <td>2021-04-17</td>\n",
       "      <td>B.A. Psychology</td>\n",
       "      <td>18</td>\n",
       "      <td>Male</td>\n",
       "      <td>2.31</td>\n",
       "      <td>66.37</td>\n",
       "      <td>Yes</td>\n",
       "      <td>Full Aid</td>\n",
       "      <td>Unpaid</td>\n",
       "      <td>22</td>\n",
       "      <td>Moderate</td>\n",
       "      <td>First-Gen</td>\n",
       "      <td>Not Working</td>\n",
       "      <td>On-Campus</td>\n",
       "      <td>2023-01-31</td>\n",
       "      <td>8</td>\n",
       "      <td>Yes</td>\n",
       "    </tr>\n",
       "  </tbody>\n",
       "</table>\n",
       "</div>"
      ],
      "text/plain": [
       "  student_id enrollment_date                   program  age  gender   gpa  \\\n",
       "0      S1000      2021-04-13  B.Eng. Civil Engineering   18  Female  3.47   \n",
       "1      S1001      2022-03-12           B.A. Psychology   18    Male  3.04   \n",
       "2      S1002      2023-05-11           B.A. Psychology   22  Female  3.74   \n",
       "3      S1003      2021-09-28  B.Eng. Civil Engineering   21    Male  2.49   \n",
       "4      S1004      2021-04-17           B.A. Psychology   18    Male  2.31   \n",
       "\n",
       "   attendance_rate extracurricular financial_aid tuition_status  \\\n",
       "0            91.52              No      Full Aid        Partial   \n",
       "1            94.59             Yes      Full Aid        Partial   \n",
       "2            84.34              No        No Aid           Paid   \n",
       "3            80.27              No        No Aid         Unpaid   \n",
       "4            66.37             Yes      Full Aid         Unpaid   \n",
       "\n",
       "   distance_miles support_usage family_background employment_status  \\\n",
       "0               6           Low         First-Gen       Not Working   \n",
       "1              20           Low         First-Gen         Part-time   \n",
       "2              27      Moderate     Non-First-Gen         Full-time   \n",
       "3               9          High         First-Gen         Full-time   \n",
       "4              22      Moderate         First-Gen       Not Working   \n",
       "\n",
       "  living_situation  last_login  courses_completed churn  \n",
       "0        On-Campus  2023-02-20                  5   Yes  \n",
       "1      With Family  2023-03-10                  6    No  \n",
       "2       Off-Campus  2023-04-05                  9    No  \n",
       "3       Off-Campus  2023-03-30                  8    No  \n",
       "4        On-Campus  2023-01-31                  8   Yes  "
      ]
     },
     "execution_count": 24,
     "metadata": {},
     "output_type": "execute_result"
    }
   ],
   "source": [
    "data1.head()\n"
   ]
  },
  {
   "cell_type": "code",
   "execution_count": 26,
   "id": "d1b11458-6c3a-41b3-bc9e-48b0896c9c76",
   "metadata": {},
   "outputs": [
    {
     "data": {
      "text/plain": [
       "RangeIndex(start=0, stop=500, step=1)"
      ]
     },
     "execution_count": 26,
     "metadata": {},
     "output_type": "execute_result"
    }
   ],
   "source": [
    "data1.index"
   ]
  },
  {
   "cell_type": "code",
   "execution_count": 30,
   "id": "ac34b35a-6361-46db-8f92-cc3c63fcb3d8",
   "metadata": {},
   "outputs": [
    {
     "data": {
      "text/plain": [
       "Index(['student_id', 'enrollment_date', 'program', 'age', 'gender', 'gpa',\n",
       "       'attendance_rate', 'extracurricular', 'financial_aid', 'tuition_status',\n",
       "       'distance_miles', 'support_usage', 'family_background',\n",
       "       'employment_status', 'living_situation', 'last_login',\n",
       "       'courses_completed', 'churn'],\n",
       "      dtype='object')"
      ]
     },
     "execution_count": 30,
     "metadata": {},
     "output_type": "execute_result"
    }
   ],
   "source": [
    "data1.columns\n"
   ]
  },
  {
   "cell_type": "code",
   "execution_count": 32,
   "id": "2722a3a4-fba8-4dcb-bdfa-aaa1afc68dbd",
   "metadata": {},
   "outputs": [
    {
     "data": {
      "text/plain": [
       "student_id            object\n",
       "enrollment_date       object\n",
       "program               object\n",
       "age                    int64\n",
       "gender                object\n",
       "gpa                  float64\n",
       "attendance_rate      float64\n",
       "extracurricular       object\n",
       "financial_aid         object\n",
       "tuition_status        object\n",
       "distance_miles         int64\n",
       "support_usage         object\n",
       "family_background     object\n",
       "employment_status     object\n",
       "living_situation      object\n",
       "last_login            object\n",
       "courses_completed      int64\n",
       "churn                 object\n",
       "dtype: object"
      ]
     },
     "execution_count": 32,
     "metadata": {},
     "output_type": "execute_result"
    }
   ],
   "source": [
    "data1.dtypes"
   ]
  },
  {
   "cell_type": "code",
   "execution_count": 64,
   "id": "28a02d51-498c-46bb-8304-96d987e2c72c",
   "metadata": {},
   "outputs": [
    {
     "data": {
      "image/png": "[encoded data removed]",
      "text/plain": [
       "<Figure size 640x480 with 1 Axes>"
      ]
     },
     "metadata": {},
     "output_type": "display_data"
    }
   ],
   "source": [
    "import matplotlib.pyplot as plt\n",
    "\n",
    "# Sample data\n",
    "x = [1, 2, 3, 4, 5]\n",
    "y = [10, 15, 13, 18, 16]\n",
    "\n",
    "# Line plot\n",
    "plt.plot(x, y, marker='o')\n",
    "plt.title(\"Simple Line Plot\")\n",
    "plt.xlabel(\"X-axis\")\n",
    "plt.ylabel(\"Y-axis\")\n",
    "plt.show()\n"
   ]
  },
  {
   "cell_type": "code",
   "execution_count": 74,
   "id": "568a1a81-02bd-4ea4-b657-5ef55a616ce8",
   "metadata": {},
   "outputs": [
    {
     "data": {
      "image/png": "[encoded data removed]",
      "text/plain": [
       "<Figure size 640x480 with 1 Axes>"
      ]
     },
     "metadata": {},
     "output_type": "display_data"
    }
   ],
   "source": [
    "import seaborn as sns\n",
    "import matplotlib.pyplot as plt\n",
    "\n",
    "# Sample data\n",
    "tips = sns.load_dataset(\"tips\")\n",
    "\n",
    "# Scatter plot with a trend line\n",
    "sns.scatterplot(x=\"total_bill\", y=\"tip\", data=tips)\n",
    "sns.lineplot(x=\"total_bill\", y=\"tip\", data=tips, color='violet', label='Trend line')\n",
    "plt.title(\"Total Bill vs Tip\")\n",
    "plt.show()"
   ]
  },
  {
   "cell_type": "code",
   "execution_count": 58,
   "id": "f5a2b6bf-40c4-49af-9197-f3557b0baf01",
   "metadata": {},
   "outputs": [
    {
     "data": {
      "application/vnd.plotly.v1+json": {
       "config": {
        "plotlyServerURL": "https://plot.ly"
       },
       "data": [
        {
         "hovertemplate": "species=setosa<br>sepal_width=%{x}<br>sepal_length=%{y}<extra></extra>",
         "legendgroup": "setosa",
         "marker": {
          "color": "#000001",
          "symbol": "circle"
         },
         "mode": "markers",
         "name": "setosa",
         "orientation": "v",
         "showlegend": true,
         "type": "scatter",
         "x": [
          3.5,
          3,
          3.2,
          3.1,
          3.6,
          3.9,
          3.4,
          3.4,
          2.9,
          3.1,
          3.7,
          3.4,
          3,
          3,
          4,
          4.4,
          3.9,
          3.5,
          3.8,
          3.8,
          3.4,
          3.7,
          3.6,
          3.3,
          3.4,
          3,
          3.4,
          3.5,
          3.4,
          3.2,
          3.1,
          3.4,
          4.1,
          4.2,
          3.1,
          3.2,
          3.5,
          3.1,
          3,
          3.4,
          3.5,
          2.3,
          3.2,
          3.5,
          3.8,
          3,
          3.8,
          3.2,
          3.7,
          3.3
         ],
         "xaxis": "x",
         "y": [
          5.1,
          4.9,
          4.7,
          4.6,
          5,
          5.4,
          4.6,
          5,
          4.4,
          4.9,
          5.4,
          4.8,
          4.8,
          4.3,
          5.8,
          5.7,
          5.4,
          5.1,
          5.7,
          5.1,
          5.4,
          5.1,
          4.6,
          5.1,
          4.8,
          5,
          5,
          5.2,
          5.2,
          4.7,
          4.8,
          5.4,
          5.2,
          5.5,
          4.9,
          5,
          5.5,
          4.9,
          4.4,
          5.1,
          5,
          4.5,
          4.4,
          5,
          5.1,
          4.8,
          5.1,
          4.6,
          5.3,
          5
         ],
         "yaxis": "y"
        },
        {
         "hovertemplate": "species=versicolor<br>sepal_width=%{x}<br>sepal_length=%{y}<extra></extra>",
         "legendgroup": "versicolor",
         "marker": {
          "color": "#000002",
          "symbol": "circle"
         },
         "mode": "markers",
         "name": "versicolor",
         "orientation": "v",
         "showlegend": true,
         "type": "scatter",
         "x": [
          3.2,
          3.2,
          3.1,
          2.3,
          2.8,
          2.8,
          3.3,
          2.4,
          2.9,
          2.7,
          2,
          3,
          2.2,
          2.9,
          2.9,
          3.1,
          3,
          2.7,
          2.2,
          2.5,
          3.2,
          2.8,
          2.5,
          2.8,
          2.9,
          3,
          2.8,
          3,
          2.9,
          2.6,
          2.4,
          2.4,
          2.7,
          2.7,
          3,
          3.4,
          3.1,
          2.3,
          3,
          2.5,
          2.6,
          3,
          2.6,
          2.3,
          2.7,
          3,
          2.9,
          2.9,
          2.5,
          2.8
         ],
         "xaxis": "x",
         "y": [
          7,
          6.4,
          6.9,
          5.5,
          6.5,
          5.7,
          6.3,
          4.9,
          6.6,
          5.2,
          5,
          5.9,
          6,
          6.1,
          5.6,
          6.7,
          5.6,
          5.8,
          6.2,
          5.6,
          5.9,
          6.1,
          6.3,
          6.1,
          6.4,
          6.6,
          6.8,
          6.7,
          6,
          5.7,
          5.5,
          5.5,
          5.8,
          6,
          5.4,
          6,
          6.7,
          6.3,
          5.6,
          5.5,
          5.5,
          6.1,
          5.8,
          5,
          5.6,
          5.7,
          5.7,
          6.2,
          5.1,
          5.7
         ],
         "yaxis": "y"
        },
        {
         "hovertemplate": "species=virginica<br>sepal_width=%{x}<br>sepal_length=%{y}<extra></extra>",
         "legendgroup": "virginica",
         "marker": {
          "color": "#000003",
          "symbol": "circle"
         },
         "mode": "markers",
         "name": "virginica",
         "orientation": "v",
         "showlegend": true,
         "type": "scatter",
         "x": [
          3.3,
          2.7,
          3,
          2.9,
          3,
          3,
          2.5,
          2.9,
          2.5,
          3.6,
          3.2,
          2.7,
          3,
          2.5,
          2.8,
          3.2,
          3,
          3.8,
          2.6,
          2.2,
          3.2,
          2.8,
          2.8,
          2.7,
          3.3,
          3.2,
          2.8,
          3,
          2.8,
          3,
          2.8,
          3.8,
          2.8,
          2.8,
          2.6,
          3,
          3.4,
          3.1,
          3,
          3.1,
          3.1,
          3.1,
          2.7,
          3.2,
          3.3,
          3,
          2.5,
          3,
          3.4,
          3
         ],
         "xaxis": "x",
         "y": [
          6.3,
          5.8,
          7.1,
          6.3,
          6.5,
          7.6,
          4.9,
          7.3,
          6.7,
          7.2,
          6.5,
          6.4,
          6.8,
          5.7,
          5.8,
          6.4,
          6.5,
          7.7,
          7.7,
          6,
          6.9,
          5.6,
          7.7,
          6.3,
          6.7,
          7.2,
          6.2,
          6.1,
          6.4,
          7.2,
          7.4,
          7.9,
          6.4,
          6.3,
          6.1,
          7.7,
          6.3,
          6.4,
          6,
          6.9,
          6.7,
          6.9,
          5.8,
          6.8,
          6.7,
          6.7,
          6.3,
          6.5,
          6.2,
          5.9
         ],
         "yaxis": "y"
        }
       ],
       "layout": {
        "autosize": true,
        "legend": {
         "title": {
          "text": "species"
         },
         "tracegroupgap": 0
        },
        "template": {
         "data": {
          "candlestick": [
           {
            "decreasing": {
             "line": {
              "color": "#000033"
             }
            },
            "increasing": {
             "line": {
              "color": "#000032"
             }
            },
            "type": "candlestick"
           }
          ],
          "contour": [
           {
            "colorscale": [
             [
              0,
              "#000011"
             ],
             [
              0.1111111111111111,
              "#000012"
             ],
             [
              0.2222222222222222,
              "#000013"
             ],
             [
              0.3333333333333333,
              "#000014"
             ],
             [
              0.4444444444444444,
              "#000015"
             ],
             [
              0.5555555555555556,
              "#000016"
             ],
             [
              0.6666666666666666,
              "#000017"
             ],
             [
              0.7777777777777778,
              "#000018"
             ],
             [
              0.8888888888888888,
              "#000019"
             ],
             [
              1,
              "#000020"
             ]
            ],
            "type": "contour"
           }
          ],
          "contourcarpet": [
           {
            "colorscale": [
             [
              0,
              "#000011"
             ],
             [
              0.1111111111111111,
              "#000012"
             ],
             [
              0.2222222222222222,
              "#000013"
             ],
             [
              0.3333333333333333,
              "#000014"
             ],
             [
              0.4444444444444444,
              "#000015"
             ],
             [
              0.5555555555555556,
              "#000016"
             ],
             [
              0.6666666666666666,
              "#000017"
             ],
             [
              0.7777777777777778,
              "#000018"
             ],
             [
              0.8888888888888888,
              "#000019"
             ],
             [
              1,
              "#000020"
             ]
            ],
            "type": "contourcarpet"
           }
          ],
          "heatmap": [
           {
            "colorscale": [
             [
              0,
              "#000011"
             ],
             [
              0.1111111111111111,
              "#000012"
             ],
             [
              0.2222222222222222,
              "#000013"
             ],
             [
              0.3333333333333333,
              "#000014"
             ],
             [
              0.4444444444444444,
              "#000015"
             ],
             [
              0.5555555555555556,
              "#000016"
             ],
             [
              0.6666666666666666,
              "#000017"
             ],
             [
              0.7777777777777778,
              "#000018"
             ],
             [
              0.8888888888888888,
              "#000019"
             ],
             [
              1,
              "#000020"
             ]
            ],
            "type": "heatmap"
           }
          ],
          "histogram2d": [
           {
            "colorscale": [
             [
              0,
              "#000011"
             ],
             [
              0.1111111111111111,
              "#000012"
             ],
             [
              0.2222222222222222,
              "#000013"
             ],
             [
              0.3333333333333333,
              "#000014"
             ],
             [
              0.4444444444444444,
              "#000015"
             ],
             [
              0.5555555555555556,
              "#000016"
             ],
             [
              0.6666666666666666,
              "#000017"
             ],
             [
              0.7777777777777778,
              "#000018"
             ],
             [
              0.8888888888888888,
              "#000019"
             ],
             [
              1,
              "#000020"
             ]
            ],
            "type": "histogram2d"
           }
          ],
          "icicle": [
           {
            "textfont": {
             "color": "white"
            },
            "type": "icicle"
           }
          ],
          "sankey": [
           {
            "textfont": {
             "color": "#000036"
            },
            "type": "sankey"
           }
          ],
          "scatter": [
           {
            "marker": {
             "line": {
              "width": 0
             }
            },
            "type": "scatter"
           }
          ],
          "table": [
           {
            "cells": {
             "fill": {
              "color": "#000038"
             },
             "font": {
              "color": "#000037"
             },
             "line": {
              "color": "#000039"
             }
            },
            "header": {
             "fill": {
              "color": "#000040"
             },
             "font": {
              "color": "#000036"
             },
             "line": {
              "color": "#000039"
             }
            },
            "type": "table"
           }
          ],
          "waterfall": [
           {
            "connector": {
             "line": {
              "color": "#000036",
              "width": 2
             }
            },
            "decreasing": {
             "marker": {
              "color": "#000033"
             }
            },
            "increasing": {
             "marker": {
              "color": "#000032"
             }
            },
            "totals": {
             "marker": {
              "color": "#000034"
             }
            },
            "type": "waterfall"
           }
          ]
         },
         "layout": {
          "coloraxis": {
           "colorscale": [
            [
             0,
             "#000011"
            ],
            [
             0.1111111111111111,
             "#000012"
            ],
            [
             0.2222222222222222,
             "#000013"
            ],
            [
             0.3333333333333333,
             "#000014"
            ],
            [
             0.4444444444444444,
             "#000015"
            ],
            [
             0.5555555555555556,
             "#000016"
            ],
            [
             0.6666666666666666,
             "#000017"
            ],
            [
             0.7777777777777778,
             "#000018"
            ],
            [
             0.8888888888888888,
             "#000019"
            ],
            [
             1,
             "#000020"
            ]
           ]
          },
          "colorscale": {
           "diverging": [
            [
             0,
             "#000021"
            ],
            [
             0.1,
             "#000022"
            ],
            [
             0.2,
             "#000023"
            ],
            [
             0.3,
             "#000024"
            ],
            [
             0.4,
             "#000025"
            ],
            [
             0.5,
             "#000026"
            ],
            [
             0.6,
             "#000027"
            ],
            [
             0.7,
             "#000028"
            ],
            [
             0.8,
             "#000029"
            ],
            [
             0.9,
             "#000030"
            ],
            [
             1,
             "#000031"
            ]
           ],
           "sequential": [
            [
             0,
             "#000011"
            ],
            [
             0.1111111111111111,
             "#000012"
            ],
            [
             0.2222222222222222,
             "#000013"
            ],
            [
             0.3333333333333333,
             "#000014"
            ],
            [
             0.4444444444444444,
             "#000015"
            ],
            [
             0.5555555555555556,
             "#000016"
            ],
            [
             0.6666666666666666,
             "#000017"
            ],
            [
             0.7777777777777778,
             "#000018"
            ],
            [
             0.8888888888888888,
             "#000019"
            ],
            [
             1,
             "#000020"
            ]
           ],
           "sequentialminus": [
            [
             0,
             "#000011"
            ],
            [
             0.1111111111111111,
             "#000012"
            ],
            [
             0.2222222222222222,
             "#000013"
            ],
            [
             0.3333333333333333,
             "#000014"
            ],
            [
             0.4444444444444444,
             "#000015"
            ],
            [
             0.5555555555555556,
             "#000016"
            ],
            [
             0.6666666666666666,
             "#000017"
            ],
            [
             0.7777777777777778,
             "#000018"
            ],
            [
             0.8888888888888888,
             "#000019"
            ],
            [
             1,
             "#000020"
            ]
           ]
          },
          "colorway": [
           "#000001",
           "#000002",
           "#000003",
           "#000004",
           "#000005",
           "#000006",
           "#000007",
           "#000008",
           "#000009",
           "#000010"
          ]
         }
        },
        "title": {
         "text": "Sepal Dimensions by Species"
        },
        "xaxis": {
         "anchor": "y",
         "autorange": true,
         "domain": [
          0,
          1
         ],
         "range": [
          1.8540212443095598,
          4.545978755690441
         ],
         "title": {
          "text": "sepal_width"
         },
         "type": "linear"
        },
        "yaxis": {
         "anchor": "x",
         "autorange": true,
         "domain": [
          0,
          1
         ],
         "range": [
          4.002912621359223,
          8.197087378640777
         ],
         "title": {
          "text": "sepal_length"
         },
         "type": "linear"
        }
       }
      },
      "image/png": "[encoded data removed]",
      "text/html": [
       "<div>                            <div id=\"82374c97-e8ba-4ad6-a557-7bdde3cca04c\" class=\"plotly-graph-div\" style=\"height:525px; width:100%;\"></div>            <script type=\"text/javascript\">                require([\"plotly\"], function(Plotly) {                    window.PLOTLYENV=window.PLOTLYENV || {};                                    if (document.getElementById(\"82374c97-e8ba-4ad6-a557-7bdde3cca04c\")) {                    Plotly.newPlot(                        \"82374c97-e8ba-4ad6-a557-7bdde3cca04c\",                        [{\"hovertemplate\":\"species=setosa\\u003cbr\\u003esepal_width=%{x}\\u003cbr\\u003esepal_length=%{y}\\u003cextra\\u003e\\u003c\\u002fextra\\u003e\",\"legendgroup\":\"setosa\",\"marker\":{\"color\":\"#000001\",\"symbol\":\"circle\"},\"mode\":\"markers\",\"name\":\"setosa\",\"orientation\":\"v\",\"showlegend\":true,\"x\":[3.5,3.0,3.2,3.1,3.6,3.9,3.4,3.4,2.9,3.1,3.7,3.4,3.0,3.0,4.0,4.4,3.9,3.5,3.8,3.8,3.4,3.7,3.6,3.3,3.4,3.0,3.4,3.5,3.4,3.2,3.1,3.4,4.1,4.2,3.1,3.2,3.5,3.1,3.0,3.4,3.5,2.3,3.2,3.5,3.8,3.0,3.8,3.2,3.7,3.3],\"xaxis\":\"x\",\"y\":[5.1,4.9,4.7,4.6,5.0,5.4,4.6,5.0,4.4,4.9,5.4,4.8,4.8,4.3,5.8,5.7,5.4,5.1,5.7,5.1,5.4,5.1,4.6,5.1,4.8,5.0,5.0,5.2,5.2,4.7,4.8,5.4,5.2,5.5,4.9,5.0,5.5,4.9,4.4,5.1,5.0,4.5,4.4,5.0,5.1,4.8,5.1,4.6,5.3,5.0],\"yaxis\":\"y\",\"type\":\"scatter\"},{\"hovertemplate\":\"species=versicolor\\u003cbr\\u003esepal_width=%{x}\\u003cbr\\u003esepal_length=%{y}\\u003cextra\\u003e\\u003c\\u002fextra\\u003e\",\"legendgroup\":\"versicolor\",\"marker\":{\"color\":\"#000002\",\"symbol\":\"circle\"},\"mode\":\"markers\",\"name\":\"versicolor\",\"orientation\":\"v\",\"showlegend\":true,\"x\":[3.2,3.2,3.1,2.3,2.8,2.8,3.3,2.4,2.9,2.7,2.0,3.0,2.2,2.9,2.9,3.1,3.0,2.7,2.2,2.5,3.2,2.8,2.5,2.8,2.9,3.0,2.8,3.0,2.9,2.6,2.4,2.4,2.7,2.7,3.0,3.4,3.1,2.3,3.0,2.5,2.6,3.0,2.6,2.3,2.7,3.0,2.9,2.9,2.5,2.8],\"xaxis\":\"x\",\"y\":[7.0,6.4,6.9,5.5,6.5,5.7,6.3,4.9,6.6,5.2,5.0,5.9,6.0,6.1,5.6,6.7,5.6,5.8,6.2,5.6,5.9,6.1,6.3,6.1,6.4,6.6,6.8,6.7,6.0,5.7,5.5,5.5,5.8,6.0,5.4,6.0,6.7,6.3,5.6,5.5,5.5,6.1,5.8,5.0,5.6,5.7,5.7,6.2,5.1,5.7],\"yaxis\":\"y\",\"type\":\"scatter\"},{\"hovertemplate\":\"species=virginica\\u003cbr\\u003esepal_width=%{x}\\u003cbr\\u003esepal_length=%{y}\\u003cextra\\u003e\\u003c\\u002fextra\\u003e\",\"legendgroup\":\"virginica\",\"marker\":{\"color\":\"#000003\",\"symbol\":\"circle\"},\"mode\":\"markers\",\"name\":\"virginica\",\"orientation\":\"v\",\"showlegend\":true,\"x\":[3.3,2.7,3.0,2.9,3.0,3.0,2.5,2.9,2.5,3.6,3.2,2.7,3.0,2.5,2.8,3.2,3.0,3.8,2.6,2.2,3.2,2.8,2.8,2.7,3.3,3.2,2.8,3.0,2.8,3.0,2.8,3.8,2.8,2.8,2.6,3.0,3.4,3.1,3.0,3.1,3.1,3.1,2.7,3.2,3.3,3.0,2.5,3.0,3.4,3.0],\"xaxis\":\"x\",\"y\":[6.3,5.8,7.1,6.3,6.5,7.6,4.9,7.3,6.7,7.2,6.5,6.4,6.8,5.7,5.8,6.4,6.5,7.7,7.7,6.0,6.9,5.6,7.7,6.3,6.7,7.2,6.2,6.1,6.4,7.2,7.4,7.9,6.4,6.3,6.1,7.7,6.3,6.4,6.0,6.9,6.7,6.9,5.8,6.8,6.7,6.7,6.3,6.5,6.2,5.9],\"yaxis\":\"y\",\"type\":\"scatter\"}],                        {\"template\":{\"data\":{\"candlestick\":[{\"decreasing\":{\"line\":{\"color\":\"#000033\"}},\"increasing\":{\"line\":{\"color\":\"#000032\"}},\"type\":\"candlestick\"}],\"contourcarpet\":[{\"colorscale\":[[0.0,\"#000011\"],[0.1111111111111111,\"#000012\"],[0.2222222222222222,\"#000013\"],[0.3333333333333333,\"#000014\"],[0.4444444444444444,\"#000015\"],[0.5555555555555556,\"#000016\"],[0.6666666666666666,\"#000017\"],[0.7777777777777778,\"#000018\"],[0.8888888888888888,\"#000019\"],[1.0,\"#000020\"]],\"type\":\"contourcarpet\"}],\"contour\":[{\"colorscale\":[[0.0,\"#000011\"],[0.1111111111111111,\"#000012\"],[0.2222222222222222,\"#000013\"],[0.3333333333333333,\"#000014\"],[0.4444444444444444,\"#000015\"],[0.5555555555555556,\"#000016\"],[0.6666666666666666,\"#000017\"],[0.7777777777777778,\"#000018\"],[0.8888888888888888,\"#000019\"],[1.0,\"#000020\"]],\"type\":\"contour\"}],\"heatmap\":[{\"colorscale\":[[0.0,\"#000011\"],[0.1111111111111111,\"#000012\"],[0.2222222222222222,\"#000013\"],[0.3333333333333333,\"#000014\"],[0.4444444444444444,\"#000015\"],[0.5555555555555556,\"#000016\"],[0.6666666666666666,\"#000017\"],[0.7777777777777778,\"#000018\"],[0.8888888888888888,\"#000019\"],[1.0,\"#000020\"]],\"type\":\"heatmap\"}],\"histogram2d\":[{\"colorscale\":[[0.0,\"#000011\"],[0.1111111111111111,\"#000012\"],[0.2222222222222222,\"#000013\"],[0.3333333333333333,\"#000014\"],[0.4444444444444444,\"#000015\"],[0.5555555555555556,\"#000016\"],[0.6666666666666666,\"#000017\"],[0.7777777777777778,\"#000018\"],[0.8888888888888888,\"#000019\"],[1.0,\"#000020\"]],\"type\":\"histogram2d\"}],\"icicle\":[{\"textfont\":{\"color\":\"white\"},\"type\":\"icicle\"}],\"sankey\":[{\"textfont\":{\"color\":\"#000036\"},\"type\":\"sankey\"}],\"scatter\":[{\"marker\":{\"line\":{\"width\":0}},\"type\":\"scatter\"}],\"table\":[{\"cells\":{\"fill\":{\"color\":\"#000038\"},\"font\":{\"color\":\"#000037\"},\"line\":{\"color\":\"#000039\"}},\"header\":{\"fill\":{\"color\":\"#000040\"},\"font\":{\"color\":\"#000036\"},\"line\":{\"color\":\"#000039\"}},\"type\":\"table\"}],\"waterfall\":[{\"connector\":{\"line\":{\"color\":\"#000036\",\"width\":2}},\"decreasing\":{\"marker\":{\"color\":\"#000033\"}},\"increasing\":{\"marker\":{\"color\":\"#000032\"}},\"totals\":{\"marker\":{\"color\":\"#000034\"}},\"type\":\"waterfall\"}]},\"layout\":{\"coloraxis\":{\"colorscale\":[[0.0,\"#000011\"],[0.1111111111111111,\"#000012\"],[0.2222222222222222,\"#000013\"],[0.3333333333333333,\"#000014\"],[0.4444444444444444,\"#000015\"],[0.5555555555555556,\"#000016\"],[0.6666666666666666,\"#000017\"],[0.7777777777777778,\"#000018\"],[0.8888888888888888,\"#000019\"],[1.0,\"#000020\"]]},\"colorscale\":{\"diverging\":[[0.0,\"#000021\"],[0.1,\"#000022\"],[0.2,\"#000023\"],[0.3,\"#000024\"],[0.4,\"#000025\"],[0.5,\"#000026\"],[0.6,\"#000027\"],[0.7,\"#000028\"],[0.8,\"#000029\"],[0.9,\"#000030\"],[1.0,\"#000031\"]],\"sequential\":[[0.0,\"#000011\"],[0.1111111111111111,\"#000012\"],[0.2222222222222222,\"#000013\"],[0.3333333333333333,\"#000014\"],[0.4444444444444444,\"#000015\"],[0.5555555555555556,\"#000016\"],[0.6666666666666666,\"#000017\"],[0.7777777777777778,\"#000018\"],[0.8888888888888888,\"#000019\"],[1.0,\"#000020\"]],\"sequentialminus\":[[0.0,\"#000011\"],[0.1111111111111111,\"#000012\"],[0.2222222222222222,\"#000013\"],[0.3333333333333333,\"#000014\"],[0.4444444444444444,\"#000015\"],[0.5555555555555556,\"#000016\"],[0.6666666666666666,\"#000017\"],[0.7777777777777778,\"#000018\"],[0.8888888888888888,\"#000019\"],[1.0,\"#000020\"]]},\"colorway\":[\"#000001\",\"#000002\",\"#000003\",\"#000004\",\"#000005\",\"#000006\",\"#000007\",\"#000008\",\"#000009\",\"#000010\"]}},\"xaxis\":{\"anchor\":\"y\",\"domain\":[0.0,1.0],\"title\":{\"text\":\"sepal_width\"}},\"yaxis\":{\"anchor\":\"x\",\"domain\":[0.0,1.0],\"title\":{\"text\":\"sepal_length\"}},\"legend\":{\"title\":{\"text\":\"species\"},\"tracegroupgap\":0},\"title\":{\"text\":\"Sepal Dimensions by Species\"}},                        {\"responsive\": true}                    ).then(function(){\n",
       "                            \n",
       "var gd = document.getElementById('82374c97-e8ba-4ad6-a557-7bdde3cca04c');\n",
       "var x = new MutationObserver(function (mutations, observer) {{\n",
       "        var display = window.getComputedStyle(gd).display;\n",
       "        if (!display || display === 'none') {{\n",
       "            console.log([gd, 'removed!']);\n",
       "            Plotly.purge(gd);\n",
       "            observer.disconnect();\n",
       "        }}\n",
       "}});\n",
       "\n",
       "// Listen for the removal of the full notebook cells\n",
       "var notebookContainer = gd.closest('#notebook-container');\n",
       "if (notebookContainer) {{\n",
       "    x.observe(notebookContainer, {childList: true});\n",
       "}}\n",
       "\n",
       "// Listen for the clearing of the current output cell\n",
       "var outputEl = gd.closest('.output');\n",
       "if (outputEl) {{\n",
       "    x.observe(outputEl, {childList: true});\n",
       "}}\n",
       "\n",
       "                        })                };                });            </script>        </div>"
      ]
     },
     "metadata": {},
     "output_type": "display_data"
    }
   ],
   "source": [
    "import plotly.express as px\n",
    "\n",
    "# Sample data\n",
    "df = px.data.iris()\n",
    "\n",
    "# Interactive scatter plot\n",
    "fig = px.scatter(df, x=\"sepal_width\", y=\"sepal_length\", color=\"species\",\n",
    "                 title=\"Sepal Dimensions by Species\")\n",
    "fig.show()\n"
   ]
  },
  {
   "cell_type": "code",
   "execution_count": null,
   "id": "dd89d226-f4d6-475e-84b2-b51ec93d783d",
   "metadata": {},
   "outputs": [],
   "source": []
  }
 ],
 "metadata": {
  "kernelspec": {
   "display_name": "Python 3 (ipykernel)",
   "language": "python",
   "name": "python3"
  },
  "language_info": {
   "codemirror_mode": {
    "name": "ipython",
    "version": 3
   },
   "file_extension": ".py",
   "mimetype": "text/x-python",
   "name": "python",
   "nbconvert_exporter": "python",
   "pygments_lexer": "ipython3",
   "version": "3.12.7"
  }
 },
 "nbformat": 4,
 "nbformat_minor": 5
}
